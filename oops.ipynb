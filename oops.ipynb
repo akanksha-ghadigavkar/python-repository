{
 "cells": [
  {
   "cell_type": "markdown",
   "id": "7a064921",
   "metadata": {},
   "source": [
    "Polymorphism in Python"
   ]
  },
  {
   "cell_type": "markdown",
   "id": "737fb495",
   "metadata": {},
   "source": [
    "\n",
    "        Operator overloading\n",
    "         method overloading\n",
    "         method overriding\n",
    " "
   ]
  },
  {
   "cell_type": "code",
   "execution_count": 10,
   "id": "de75305a",
   "metadata": {},
   "outputs": [
    {
     "name": "stdout",
     "output_type": "stream",
     "text": [
      "I am inside class B\n"
     ]
    }
   ],
   "source": [
    "#Parent/Base  class\n",
    "class A():\n",
    "    def display(self):\n",
    "        print('I am inside class A')\n",
    "\n",
    "#child/Derived class\n",
    "class B(A): #Inheritance: class B is inherited from class A\n",
    "    def display(self):\n",
    "        print('I am inside class B')\n",
    "\n",
    "\n",
    "# creating an object of child class\n",
    "ob1=B()   #step1: memory allocation for object 'ob1'\n",
    "                 # step2: constructor will be invoked internally\n",
    "                 # step3: id of the object(i.e ob1) will be passed to 'self' variable \n",
    "\n",
    "ob1.display()  # child class method will be invoked"
   ]
  },
  {
   "cell_type": "code",
   "execution_count": 9,
   "id": "0c5291bb",
   "metadata": {},
   "outputs": [
    {
     "name": "stdout",
     "output_type": "stream",
     "text": [
      "8\n",
      "XY\n",
      "21\n"
     ]
    }
   ],
   "source": [
    "#Operator overloading\n",
    "'''\n",
    "    --an operator performs additional action other than what it is meant for.\n",
    "    --Normally, '+' adds two numbers. e.g: 10+15\n",
    "       But, we can not use + to add two objects.\n",
    "    --We can overload the + to act upon the two objects and perform addition\n",
    "      on the contents of the objects.\n",
    "    -- '+' operator is internally written as a special method, i.e: __add__().\n",
    "    --writing a+b meands, internally calling a.__add__(b).\n",
    "    --\n",
    "        def __add__(self,other):\n",
    "            return self.a+other.b\n",
    "\n",
    "        here, self.a represents the numeric content of the first object\n",
    "               and other.a represents the numeric content of the second object\n",
    "               \n",
    "'''\n",
    "class A:\n",
    "    def __init__(self,a):\n",
    "        self.a=a\n",
    "    def __add__(self,other):\n",
    "        return self.a+other.a\n",
    "ob1=A(5)\n",
    "ob2=A(3)\n",
    "ob3=ob1+ob2   #Addind two objects\n",
    "print(ob3)\n",
    "\n",
    "ob1=A('X')\n",
    "ob2=A('Y')\n",
    "ob3=ob1+ob2   #Addind two objects\n",
    "print(ob3)\n",
    "\n",
    "\n",
    "class A:\n",
    "    def __init__(self,a,b):\n",
    "        self.a=a\n",
    "        self.b=b\n",
    "    def __add__(self,other):\n",
    "        return self.a+other.a+self.b+other.b\n",
    "ob1=A(5,6)\n",
    "ob2=A(3,7)\n",
    "ob3=ob1+ob2\n",
    "print(ob3)\n",
    "\n"
   ]
  },
  {
   "cell_type": "code",
   "execution_count": 8,
   "id": "2f17570e",
   "metadata": {},
   "outputs": [
    {
     "name": "stdout",
     "output_type": "stream",
     "text": [
      "I am inside child class\n",
      "I am inside father class\n",
      "I am inside mother class\n"
     ]
    }
   ],
   "source": [
    "#Method overriding in Multiple inheritance\n",
    "\n",
    "\n",
    "class Father:\n",
    "    def display(self):\n",
    "        print('I am inside father class')\n",
    "\n",
    "class Mother:\n",
    "    def display(self):\n",
    "        print('I am inside mother class')\n",
    "\n",
    "class Child(Father,Mother):\n",
    "     def display(self):\n",
    "        print('I am inside child class')\n",
    "        super().display()   #accessing father class method using super() method\n",
    "        Mother.display(self) # accessing Mother class method using class name\n",
    "\n",
    "#creating an object of child class\n",
    "ob1=Child()\n",
    "ob1.display()  # will invoke the display method of child class\n",
    "\n"
   ]
  },
  {
   "cell_type": "code",
   "execution_count": null,
   "id": "8457b1cb",
   "metadata": {},
   "outputs": [],
   "source": []
  }
 ],
 "metadata": {
  "kernelspec": {
   "display_name": "Python 3 (ipykernel)",
   "language": "python",
   "name": "python3"
  },
  "language_info": {
   "codemirror_mode": {
    "name": "ipython",
    "version": 3
   },
   "file_extension": ".py",
   "mimetype": "text/x-python",
   "name": "python",
   "nbconvert_exporter": "python",
   "pygments_lexer": "ipython3",
   "version": "3.9.12"
  }
 },
 "nbformat": 4,
 "nbformat_minor": 5
}
